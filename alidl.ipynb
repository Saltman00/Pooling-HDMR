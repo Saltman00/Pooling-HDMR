{
 "cells": [
  {
   "cell_type": "code",
   "execution_count": 5,
   "id": "24a053e8-94af-4d30-970d-666f2ce3b1c6",
   "metadata": {},
   "outputs": [
    {
     "name": "stdout",
     "output_type": "stream",
     "text": [
      "✅ GPU bulundu. Varsayılan bellek yönetimi kullanılacak.\n"
     ]
    }
   ],
   "source": [
    "import tensorflow as tf\n",
    "\n",
    "# === Varsayılan davranış: GPU bellek kullanımını TensorFlow yönetir ===\n",
    "gpus = tf.config.experimental.list_physical_devices('GPU')\n",
    "if gpus:\n",
    "    print(\"✅ GPU bulundu. Varsayılan bellek yönetimi kullanılacak.\")\n",
    "else:\n",
    "    print(\"❌ GPU bulunamadı.\")\n"
   ]
  },
  {
   "cell_type": "code",
   "execution_count": 6,
   "id": "e688f009-9699-423e-a61d-2658f0ff505c",
   "metadata": {
    "scrolled": true
   },
   "outputs": [],
   "source": [
    "class LearningRateLogger(tf.keras.callbacks.Callback):\n",
    "    def on_train_batch_begin(self, batch, logs=None):\n",
    "        lr = self.model.optimizer.learning_rate\n",
    "        if hasattr(lr, '__call__'):  # Eğer lr schedule ise\n",
    "            lr = lr(self.model.optimizer.iterations)\n",
    "        print(f\"Step {self.model.optimizer.iterations.numpy()} - Learning Rate: {lr.numpy():.6f}\")"
   ]
  },
  {
   "cell_type": "code",
   "execution_count": 8,
   "id": "1abf307e-fb36-47d4-b2c9-d42c890b3c0f",
   "metadata": {},
   "outputs": [
    {
     "name": "stdout",
     "output_type": "stream",
     "text": [
      "Epoch 1/10\n",
      "391/391 [==============================] - 11s 12ms/step - loss: 1.6847 - accuracy: 0.3894 - val_loss: 1.4517 - val_accuracy: 0.4670\n",
      "Epoch 2/10\n",
      "391/391 [==============================] - 4s 10ms/step - loss: 1.3830 - accuracy: 0.5042 - val_loss: 1.2853 - val_accuracy: 0.5431\n",
      "Epoch 3/10\n",
      "391/391 [==============================] - 4s 11ms/step - loss: 1.2617 - accuracy: 0.5535 - val_loss: 1.2238 - val_accuracy: 0.5663\n",
      "Epoch 4/10\n",
      "391/391 [==============================] - 4s 10ms/step - loss: 1.1710 - accuracy: 0.5885 - val_loss: 1.2003 - val_accuracy: 0.5658\n",
      "Epoch 5/10\n",
      "391/391 [==============================] - 4s 10ms/step - loss: 1.1114 - accuracy: 0.6093 - val_loss: 1.1034 - val_accuracy: 0.6141\n",
      "Epoch 6/10\n",
      "391/391 [==============================] - 4s 10ms/step - loss: 1.0654 - accuracy: 0.6254 - val_loss: 1.0656 - val_accuracy: 0.6253\n",
      "Epoch 7/10\n",
      "391/391 [==============================] - 4s 11ms/step - loss: 1.0279 - accuracy: 0.6382 - val_loss: 1.0366 - val_accuracy: 0.6376\n",
      "Epoch 8/10\n",
      "391/391 [==============================] - 4s 10ms/step - loss: 0.9896 - accuracy: 0.6536 - val_loss: 1.0124 - val_accuracy: 0.6442\n",
      "Epoch 9/10\n",
      "391/391 [==============================] - 4s 10ms/step - loss: 0.9663 - accuracy: 0.6639 - val_loss: 1.0024 - val_accuracy: 0.6572\n",
      "Epoch 10/10\n",
      "391/391 [==============================] - 4s 11ms/step - loss: 0.9422 - accuracy: 0.6709 - val_loss: 0.9836 - val_accuracy: 0.6541\n",
      "313/313 - 1s - loss: 0.9836 - accuracy: 0.6541 - 785ms/epoch - 3ms/step\n",
      "\n",
      "Test Accuracy: 65.41%\n"
     ]
    }
   ],
   "source": [
    "from tensorflow.keras import layers, models\n",
    "from tensorflow.keras.datasets import cifar10\n",
    "from tensorflow.keras.utils import to_categorical\n",
    "\n",
    "# Optional: Enable mixed precision for GPUs with tensor cores\n",
    "# from tensorflow.keras import mixed_precision\n",
    "# mixed_precision.set_global_policy('mixed_float16')\n",
    "\n",
    "# Fast approximate median using mean (significantly faster)\n",
    "def reduce_median_fast(tensor, axis):\n",
    "    return tf.reduce_mean(tensor, axis=axis)\n",
    "\n",
    "# Optimized custom pooling layer\n",
    "class CustomHDMRPooling2D(tf.keras.layers.Layer):\n",
    "    def __init__(self, pool_size=(3, 3), strides=3):\n",
    "        super().__init__()\n",
    "        self.pool_size = pool_size\n",
    "        self.strides = strides\n",
    "\n",
    "    def call(self, inputs):\n",
    "        k_h, k_w = self.pool_size\n",
    "        stride = self.strides\n",
    "        batch_size = tf.shape(inputs)[0]\n",
    "        channels = tf.shape(inputs)[-1]\n",
    "\n",
    "        patches = tf.image.extract_patches(\n",
    "            images=inputs,\n",
    "            sizes=[1, k_h, k_w, 1],\n",
    "            strides=[1, stride, stride, 1],\n",
    "            rates=[1, 1, 1, 1],\n",
    "            padding='VALID'\n",
    "        )\n",
    "\n",
    "        out_h, out_w = tf.shape(patches)[1], tf.shape(patches)[2]\n",
    "        patches = tf.reshape(patches, [batch_size, out_h, out_w, k_h, k_w, channels])\n",
    "\n",
    "        row_sum = tf.reduce_sum(patches, axis=4)  # (B, OH, OW, H, C)\n",
    "        col_sum = tf.reduce_sum(patches, axis=3)  # (B, OH, OW, W, C)\n",
    "        f0 = tf.reduce_mean(patches, axis=[3, 4])\n",
    "\n",
    "        f1 = row_sum/ tf.cast(k_w , tf.float32)  # (B, OH, OW, H)\n",
    "        f2 = col_sum/ tf.cast(k_h , tf.float32)  # (B, OH, OW, W)\n",
    "        \n",
    "        f1_min=tf.reduce_min(f1,axis=3)\n",
    "        f2_min=tf.reduce_min(f2,axis=3)\n",
    "\n",
    "        f1_max=tf.reduce_max(f1,axis=3)\n",
    "        f2_max=tf.reduce_max(f2,axis=3)\n",
    "\n",
    "        f1_avg=tf.reduce_mean(f1,axis=3)\n",
    "        f2_avg=tf.reduce_mean(f2,axis=3)\n",
    "\n",
    "        f1_median=(f1_min+f1_max+f1_avg)/3.0\n",
    "        f2_median=(f2_min+f2_max+f2_avg)/3.0\n",
    "\n",
    "\n",
    "        scalar = f0+(f1_median+f2_median)/2.0\n",
    "        return scalar\n",
    "\n",
    "# === Load and preprocess CIFAR-10 ===\n",
    "(x_train, y_train), (x_test, y_test) = cifar10.load_data()\n",
    "x_train = x_train.astype(\"float32\") / 255.\n",
    "x_test = x_test.astype(\"float32\") / 255.\n",
    "y_train = to_categorical(y_train, 10)\n",
    "y_test = to_categorical(y_test, 10)\n",
    "\n",
    "# === Build model ===\n",
    "model = tf.keras.Sequential([\n",
    "    layers.Input(shape=(32, 32, 3)),\n",
    "    layers.Conv2D(32, kernel_size=3, activation='relu', padding='same'),\n",
    "    CustomHDMRPooling2D(pool_size=(3, 3), strides=3),\n",
    "    layers.Conv2D(64, kernel_size=3, activation='relu', padding='same'),\n",
    "    CustomHDMRPooling2D(pool_size=(3, 3), strides=3),\n",
    "    layers.Flatten(),\n",
    "    layers.Dense(64, activation='relu'),\n",
    "    layers.Dense(10, activation='softmax')  # Use dtype='float32' if using mixed_precision\n",
    "])\n",
    "\n",
    "model.compile(\n",
    "    optimizer=tf.keras.optimizers.Adam(),\n",
    "    loss='categorical_crossentropy',\n",
    "    metrics=['accuracy']\n",
    ")\n",
    "\n",
    "# === Train ===\n",
    "model.fit(\n",
    "    x_train, y_train,\n",
    "    batch_size=128,  # Increased batch size\n",
    "    epochs=10,\n",
    "    validation_data=(x_test, y_test),\n",
    ")\n",
    "\n",
    "# === Evaluate ===\n",
    "test_loss, test_acc = model.evaluate(x_test, y_test, verbose=2)\n",
    "print(f\"\\nTest Accuracy: {test_acc * 100:.2f}%\")\n"
   ]
  },
  {
   "cell_type": "code",
   "execution_count": null,
   "id": "55dc72af-d28e-4c6f-95f9-1ca1e59149b1",
   "metadata": {},
   "outputs": [],
   "source": []
  },
  {
   "cell_type": "code",
   "execution_count": null,
   "id": "25f1c65b-dc78-4c54-9ad6-3d67ddcccf15",
   "metadata": {},
   "outputs": [],
   "source": []
  },
  {
   "cell_type": "code",
   "execution_count": null,
   "id": "b6c08efb-99f5-4ba7-8452-e134d19e0959",
   "metadata": {},
   "outputs": [],
   "source": []
  },
  {
   "cell_type": "code",
   "execution_count": null,
   "id": "05f1d2fa-36fa-4052-9573-6fa3a36abd51",
   "metadata": {},
   "outputs": [],
   "source": []
  }
 ],
 "metadata": {
  "kernelspec": {
   "display_name": "Python 3 (ipykernel)",
   "language": "python",
   "name": "python3"
  },
  "language_info": {
   "codemirror_mode": {
    "name": "ipython",
    "version": 3
   },
   "file_extension": ".py",
   "mimetype": "text/x-python",
   "name": "python",
   "nbconvert_exporter": "python",
   "pygments_lexer": "ipython3",
   "version": "3.9.18"
  }
 },
 "nbformat": 4,
 "nbformat_minor": 5
}
